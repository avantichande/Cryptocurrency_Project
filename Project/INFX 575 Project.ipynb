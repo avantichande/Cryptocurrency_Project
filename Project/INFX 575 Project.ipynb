{
 "cells": [
  {
   "cell_type": "code",
   "execution_count": 10,
   "metadata": {
    "collapsed": true
   },
   "outputs": [],
   "source": [
    "import pandas as pd\n",
    "import numpy as np\n",
    "import matplotlib.pyplot as plt\n",
    "import seaborn as sns\n",
    "sns.set_style('whitegrid')\n",
    "from datetime import datetime\n",
    "from __future__ import division\n",
    "%matplotlib inline"
   ]
  },
  {
   "cell_type": "code",
   "execution_count": 11,
   "metadata": {
    "collapsed": true
   },
   "outputs": [],
   "source": [
    "df = pd.read_csv('ethereum_dataset.csv', parse_dates=['Date_UTC'])\n"
   ]
  },
  {
   "cell_type": "code",
   "execution_count": 12,
   "metadata": {},
   "outputs": [
    {
     "data": {
      "text/html": [
       "<div>\n",
       "<style scoped>\n",
       "    .dataframe tbody tr th:only-of-type {\n",
       "        vertical-align: middle;\n",
       "    }\n",
       "\n",
       "    .dataframe tbody tr th {\n",
       "        vertical-align: top;\n",
       "    }\n",
       "\n",
       "    .dataframe thead th {\n",
       "        text-align: right;\n",
       "    }\n",
       "</style>\n",
       "<table border=\"1\" class=\"dataframe\">\n",
       "  <thead>\n",
       "    <tr style=\"text-align: right;\">\n",
       "      <th></th>\n",
       "      <th>Date_UTC</th>\n",
       "      <th>UnixTimeStamp</th>\n",
       "      <th>eth_etherprice</th>\n",
       "      <th>eth_tx</th>\n",
       "      <th>eth_address</th>\n",
       "      <th>eth_supply</th>\n",
       "      <th>eth_marketcap</th>\n",
       "      <th>eth_hashrate</th>\n",
       "      <th>eth_difficulty</th>\n",
       "      <th>eth_blocks</th>\n",
       "      <th>eth_uncles</th>\n",
       "      <th>eth_blocksize</th>\n",
       "      <th>eth_blocktime</th>\n",
       "      <th>eth_gasprice</th>\n",
       "      <th>eth_gaslimit</th>\n",
       "      <th>eth_gasused</th>\n",
       "      <th>eth_ethersupply</th>\n",
       "      <th>eth_ens_register</th>\n",
       "    </tr>\n",
       "  </thead>\n",
       "  <tbody>\n",
       "    <tr>\n",
       "      <th>0</th>\n",
       "      <td>2015-07-30</td>\n",
       "      <td>1438214400</td>\n",
       "      <td>0.0</td>\n",
       "      <td>8893</td>\n",
       "      <td>9205</td>\n",
       "      <td>72049306.59</td>\n",
       "      <td>0.0</td>\n",
       "      <td>23.7569</td>\n",
       "      <td>0.121</td>\n",
       "      <td>6912</td>\n",
       "      <td>1299</td>\n",
       "      <td>644</td>\n",
       "      <td>4.46</td>\n",
       "      <td>0.0</td>\n",
       "      <td>0</td>\n",
       "      <td>0</td>\n",
       "      <td>39316.09375</td>\n",
       "      <td>NaN</td>\n",
       "    </tr>\n",
       "    <tr>\n",
       "      <th>1</th>\n",
       "      <td>2015-07-31</td>\n",
       "      <td>1438300800</td>\n",
       "      <td>0.0</td>\n",
       "      <td>0</td>\n",
       "      <td>9361</td>\n",
       "      <td>72085498.31</td>\n",
       "      <td>0.0</td>\n",
       "      <td>48.1584</td>\n",
       "      <td>0.603</td>\n",
       "      <td>6863</td>\n",
       "      <td>511</td>\n",
       "      <td>582</td>\n",
       "      <td>12.58</td>\n",
       "      <td>0.0</td>\n",
       "      <td>0</td>\n",
       "      <td>0</td>\n",
       "      <td>36191.71875</td>\n",
       "      <td>NaN</td>\n",
       "    </tr>\n",
       "    <tr>\n",
       "      <th>2</th>\n",
       "      <td>2015-08-01</td>\n",
       "      <td>1438387200</td>\n",
       "      <td>0.0</td>\n",
       "      <td>0</td>\n",
       "      <td>9476</td>\n",
       "      <td>72113204.25</td>\n",
       "      <td>0.0</td>\n",
       "      <td>55.2709</td>\n",
       "      <td>0.887</td>\n",
       "      <td>5293</td>\n",
       "      <td>334</td>\n",
       "      <td>575</td>\n",
       "      <td>16.34</td>\n",
       "      <td>0.0</td>\n",
       "      <td>0</td>\n",
       "      <td>0</td>\n",
       "      <td>27705.93750</td>\n",
       "      <td>NaN</td>\n",
       "    </tr>\n",
       "    <tr>\n",
       "      <th>3</th>\n",
       "      <td>2015-08-02</td>\n",
       "      <td>1438473600</td>\n",
       "      <td>0.0</td>\n",
       "      <td>0</td>\n",
       "      <td>9563</td>\n",
       "      <td>72141427.69</td>\n",
       "      <td>0.0</td>\n",
       "      <td>64.1779</td>\n",
       "      <td>1.020</td>\n",
       "      <td>5358</td>\n",
       "      <td>394</td>\n",
       "      <td>581</td>\n",
       "      <td>16.12</td>\n",
       "      <td>0.0</td>\n",
       "      <td>0</td>\n",
       "      <td>0</td>\n",
       "      <td>28223.43750</td>\n",
       "      <td>NaN</td>\n",
       "    </tr>\n",
       "    <tr>\n",
       "      <th>4</th>\n",
       "      <td>2015-08-03</td>\n",
       "      <td>1438560000</td>\n",
       "      <td>0.0</td>\n",
       "      <td>0</td>\n",
       "      <td>9639</td>\n",
       "      <td>72169404.41</td>\n",
       "      <td>0.0</td>\n",
       "      <td>69.8559</td>\n",
       "      <td>1.126</td>\n",
       "      <td>5280</td>\n",
       "      <td>443</td>\n",
       "      <td>587</td>\n",
       "      <td>16.37</td>\n",
       "      <td>0.0</td>\n",
       "      <td>0</td>\n",
       "      <td>0</td>\n",
       "      <td>27976.71875</td>\n",
       "      <td>NaN</td>\n",
       "    </tr>\n",
       "  </tbody>\n",
       "</table>\n",
       "</div>"
      ],
      "text/plain": [
       "    Date_UTC  UnixTimeStamp  eth_etherprice  eth_tx  eth_address   eth_supply  \\\n",
       "0 2015-07-30     1438214400             0.0    8893         9205  72049306.59   \n",
       "1 2015-07-31     1438300800             0.0       0         9361  72085498.31   \n",
       "2 2015-08-01     1438387200             0.0       0         9476  72113204.25   \n",
       "3 2015-08-02     1438473600             0.0       0         9563  72141427.69   \n",
       "4 2015-08-03     1438560000             0.0       0         9639  72169404.41   \n",
       "\n",
       "   eth_marketcap  eth_hashrate  eth_difficulty  eth_blocks  eth_uncles  \\\n",
       "0            0.0       23.7569           0.121        6912        1299   \n",
       "1            0.0       48.1584           0.603        6863         511   \n",
       "2            0.0       55.2709           0.887        5293         334   \n",
       "3            0.0       64.1779           1.020        5358         394   \n",
       "4            0.0       69.8559           1.126        5280         443   \n",
       "\n",
       "   eth_blocksize  eth_blocktime  eth_gasprice  eth_gaslimit  eth_gasused  \\\n",
       "0            644           4.46           0.0             0            0   \n",
       "1            582          12.58           0.0             0            0   \n",
       "2            575          16.34           0.0             0            0   \n",
       "3            581          16.12           0.0             0            0   \n",
       "4            587          16.37           0.0             0            0   \n",
       "\n",
       "   eth_ethersupply  eth_ens_register  \n",
       "0      39316.09375               NaN  \n",
       "1      36191.71875               NaN  \n",
       "2      27705.93750               NaN  \n",
       "3      28223.43750               NaN  \n",
       "4      27976.71875               NaN  "
      ]
     },
     "execution_count": 12,
     "metadata": {},
     "output_type": "execute_result"
    }
   ],
   "source": [
    "df.head()"
   ]
  },
  {
   "cell_type": "code",
   "execution_count": 13,
   "metadata": {},
   "outputs": [
    {
     "data": {
      "text/plain": [
       "<matplotlib.axes._subplots.AxesSubplot at 0x10adc1290>"
      ]
     },
     "execution_count": 13,
     "metadata": {},
     "output_type": "execute_result"
    },
    {
     "data": {
      "image/png": "[encoded data removed]",
      "text/plain": [
       "<matplotlib.figure.Figure at 0x10adae890>"
      ]
     },
     "metadata": {},
     "output_type": "display_data"
    }
   ],
   "source": [
    "df[['eth_etherprice']].plot(legend=True,figsize=(10,4))"
   ]
  },
  {
   "cell_type": "code",
   "execution_count": 17,
   "metadata": {},
   "outputs": [
    {
     "data": {
      "text/html": [
       "<div>\n",
       "<style scoped>\n",
       "    .dataframe tbody tr th:only-of-type {\n",
       "        vertical-align: middle;\n",
       "    }\n",
       "\n",
       "    .dataframe tbody tr th {\n",
       "        vertical-align: top;\n",
       "    }\n",
       "\n",
       "    .dataframe thead th {\n",
       "        text-align: right;\n",
       "    }\n",
       "</style>\n",
       "<table border=\"1\" class=\"dataframe\">\n",
       "  <thead>\n",
       "    <tr style=\"text-align: right;\">\n",
       "      <th></th>\n",
       "      <th>eth_tx</th>\n",
       "      <th>eth_address</th>\n",
       "      <th>eth_supply</th>\n",
       "      <th>eth_marketcap</th>\n",
       "      <th>eth_hashrate</th>\n",
       "      <th>eth_difficulty</th>\n",
       "      <th>eth_blocks</th>\n",
       "      <th>eth_uncles</th>\n",
       "      <th>eth_blocksize</th>\n",
       "      <th>eth_blocktime</th>\n",
       "      <th>eth_gasprice</th>\n",
       "      <th>eth_gaslimit</th>\n",
       "      <th>eth_gasused</th>\n",
       "      <th>eth_ethersupply</th>\n",
       "      <th>eth_ens_register</th>\n",
       "    </tr>\n",
       "  </thead>\n",
       "  <tbody>\n",
       "    <tr>\n",
       "      <th>0</th>\n",
       "      <td>8893</td>\n",
       "      <td>9205</td>\n",
       "      <td>72049306.59</td>\n",
       "      <td>0.0</td>\n",
       "      <td>23.7569</td>\n",
       "      <td>0.121</td>\n",
       "      <td>6912</td>\n",
       "      <td>1299</td>\n",
       "      <td>644</td>\n",
       "      <td>4.46</td>\n",
       "      <td>0.0</td>\n",
       "      <td>0</td>\n",
       "      <td>0</td>\n",
       "      <td>39316.09375</td>\n",
       "      <td>NaN</td>\n",
       "    </tr>\n",
       "    <tr>\n",
       "      <th>1</th>\n",
       "      <td>0</td>\n",
       "      <td>9361</td>\n",
       "      <td>72085498.31</td>\n",
       "      <td>0.0</td>\n",
       "      <td>48.1584</td>\n",
       "      <td>0.603</td>\n",
       "      <td>6863</td>\n",
       "      <td>511</td>\n",
       "      <td>582</td>\n",
       "      <td>12.58</td>\n",
       "      <td>0.0</td>\n",
       "      <td>0</td>\n",
       "      <td>0</td>\n",
       "      <td>36191.71875</td>\n",
       "      <td>NaN</td>\n",
       "    </tr>\n",
       "    <tr>\n",
       "      <th>2</th>\n",
       "      <td>0</td>\n",
       "      <td>9476</td>\n",
       "      <td>72113204.25</td>\n",
       "      <td>0.0</td>\n",
       "      <td>55.2709</td>\n",
       "      <td>0.887</td>\n",
       "      <td>5293</td>\n",
       "      <td>334</td>\n",
       "      <td>575</td>\n",
       "      <td>16.34</td>\n",
       "      <td>0.0</td>\n",
       "      <td>0</td>\n",
       "      <td>0</td>\n",
       "      <td>27705.93750</td>\n",
       "      <td>NaN</td>\n",
       "    </tr>\n",
       "    <tr>\n",
       "      <th>3</th>\n",
       "      <td>0</td>\n",
       "      <td>9563</td>\n",
       "      <td>72141427.69</td>\n",
       "      <td>0.0</td>\n",
       "      <td>64.1779</td>\n",
       "      <td>1.020</td>\n",
       "      <td>5358</td>\n",
       "      <td>394</td>\n",
       "      <td>581</td>\n",
       "      <td>16.12</td>\n",
       "      <td>0.0</td>\n",
       "      <td>0</td>\n",
       "      <td>0</td>\n",
       "      <td>28223.43750</td>\n",
       "      <td>NaN</td>\n",
       "    </tr>\n",
       "    <tr>\n",
       "      <th>4</th>\n",
       "      <td>0</td>\n",
       "      <td>9639</td>\n",
       "      <td>72169404.41</td>\n",
       "      <td>0.0</td>\n",
       "      <td>69.8559</td>\n",
       "      <td>1.126</td>\n",
       "      <td>5280</td>\n",
       "      <td>443</td>\n",
       "      <td>587</td>\n",
       "      <td>16.37</td>\n",
       "      <td>0.0</td>\n",
       "      <td>0</td>\n",
       "      <td>0</td>\n",
       "      <td>27976.71875</td>\n",
       "      <td>NaN</td>\n",
       "    </tr>\n",
       "  </tbody>\n",
       "</table>\n",
       "</div>"
      ],
      "text/plain": [
       "   eth_tx  eth_address   eth_supply  eth_marketcap  eth_hashrate  \\\n",
       "0    8893         9205  72049306.59            0.0       23.7569   \n",
       "1       0         9361  72085498.31            0.0       48.1584   \n",
       "2       0         9476  72113204.25            0.0       55.2709   \n",
       "3       0         9563  72141427.69            0.0       64.1779   \n",
       "4       0         9639  72169404.41            0.0       69.8559   \n",
       "\n",
       "   eth_difficulty  eth_blocks  eth_uncles  eth_blocksize  eth_blocktime  \\\n",
       "0           0.121        6912        1299            644           4.46   \n",
       "1           0.603        6863         511            582          12.58   \n",
       "2           0.887        5293         334            575          16.34   \n",
       "3           1.020        5358         394            581          16.12   \n",
       "4           1.126        5280         443            587          16.37   \n",
       "\n",
       "   eth_gasprice  eth_gaslimit  eth_gasused  eth_ethersupply  eth_ens_register  \n",
       "0           0.0             0            0      39316.09375               NaN  \n",
       "1           0.0             0            0      36191.71875               NaN  \n",
       "2           0.0             0            0      27705.93750               NaN  \n",
       "3           0.0             0            0      28223.43750               NaN  \n",
       "4           0.0             0            0      27976.71875               NaN  "
      ]
     },
     "execution_count": 17,
     "metadata": {},
     "output_type": "execute_result"
    }
   ],
   "source": [
    "# Prepare for the Linear Model, Dependent variable = price, independent variable = all others except price and date\n",
    "pricedf = pd.DataFrame(df['eth_etherprice'])\n",
    "datedf = pd.DataFrame(df['Date_UTC'])\n",
    "timedf = pd.DataFrame(df['UnixTimeStamp'])\n",
    "df = df.drop('eth_etherprice',axis=1)\n",
    "df = df.drop ('Date_UTC', axis = 1)\n",
    "df = df.drop ('UnixTimeStamp', axis = 1)\n",
    "df.head()"
   ]
  },
  {
   "cell_type": "code",
   "execution_count": 18,
   "metadata": {
    "collapsed": true
   },
   "outputs": [],
   "source": [
    "from sklearn.linear_model import LinearRegression"
   ]
  },
  {
   "cell_type": "code",
   "execution_count": 19,
   "metadata": {
    "collapsed": true
   },
   "outputs": [],
   "source": [
    "lm = LinearRegression()"
   ]
  },
  {
   "cell_type": "code",
   "execution_count": 21,
   "metadata": {},
   "outputs": [
    {
     "name": "stderr",
     "output_type": "stream",
     "text": [
      "/Users/Mohit/Desktop/jupyter/jpnotebook/lib/python2.7/site-packages/scipy/linalg/basic.py:1226: RuntimeWarning: internal gelsd driver lwork query error, required iwork dimension not returned. This is likely the result of LAPACK bug 0038, fixed in LAPACK 3.2.2 (released July 21, 2010). Falling back to 'gelss' driver.\n",
      "  warnings.warn(mesg, RuntimeWarning)\n"
     ]
    },
    {
     "data": {
      "text/plain": [
       "LinearRegression(copy_X=True, fit_intercept=True, n_jobs=1, normalize=False)"
      ]
     },
     "execution_count": 21,
     "metadata": {},
     "output_type": "execute_result"
    }
   ],
   "source": [
    "df = df.drop('eth_ens_register',axis = 1)\n",
    "lm.fit(df,pricedf)"
   ]
  },
  {
   "cell_type": "code",
   "execution_count": 22,
   "metadata": {},
   "outputs": [
    {
     "name": "stdout",
     "output_type": "stream",
     "text": [
      "[-15.74809576]\n"
     ]
    }
   ],
   "source": [
    "print lm.intercept_"
   ]
  },
  {
   "cell_type": "code",
   "execution_count": 34,
   "metadata": {},
   "outputs": [
    {
     "name": "stdout",
     "output_type": "stream",
     "text": [
      "            columns  coefficients\n",
      "0            eth_tx -7.798709e-06\n",
      "1       eth_address -2.269044e-06\n",
      "2        eth_supply  1.282535e-07\n",
      "3     eth_marketcap  1.083945e-02\n",
      "4      eth_hashrate  5.865264e-05\n",
      "5    eth_difficulty  4.544950e-04\n",
      "6        eth_blocks  1.620541e-03\n",
      "7        eth_uncles  4.061575e-04\n",
      "8     eth_blocksize -8.566839e-06\n",
      "9     eth_blocktime  1.152663e-01\n",
      "10     eth_gasprice -1.443929e-13\n",
      "11     eth_gaslimit  1.286799e-07\n",
      "12      eth_gasused  1.376347e-10\n",
      "13  eth_ethersupply -1.525251e-04\n"
     ]
    }
   ],
   "source": [
    "print pd.DataFrame(zip(df.columns,lm.coef_[0]),columns=['columns','coefficients'])"
   ]
  },
  {
   "cell_type": "markdown",
   "metadata": {},
   "source": []
  },
  {
   "cell_type": "code",
   "execution_count": 35,
   "metadata": {
    "collapsed": true
   },
   "outputs": [],
   "source": [
    "import statsmodels.formula.api as sm"
   ]
  },
  {
   "cell_type": "code",
   "execution_count": 36,
   "metadata": {
    "collapsed": true
   },
   "outputs": [],
   "source": [
    "df2 = pd.read_csv('ethereum_dataset.csv', parse_dates=['Date_UTC'])"
   ]
  },
  {
   "cell_type": "code",
   "execution_count": 47,
   "metadata": {
    "collapsed": true
   },
   "outputs": [],
   "source": [
    "result = sm.ols(formula=\"eth_etherprice ~ eth_hashrate + eth_difficulty + eth_blocks + eth_uncles + eth_blocksize + eth_blocktime + eth_gasprice + eth_gaslimit + eth_gasused + eth_ethersupply\", data=df2).fit()"
   ]
  },
  {
   "cell_type": "code",
   "execution_count": 48,
   "metadata": {},
   "outputs": [
    {
     "name": "stdout",
     "output_type": "stream",
     "text": [
      "                            OLS Regression Results                            \n",
      "==============================================================================\n",
      "Dep. Variable:         eth_etherprice   R-squared:                       0.934\n",
      "Model:                            OLS   Adj. R-squared:                  0.933\n",
      "Method:                 Least Squares   F-statistic:                     1113.\n",
      "Date:                Tue, 07 Nov 2017   Prob (F-statistic):               0.00\n",
      "Time:                        01:51:32   Log-Likelihood:                -3732.4\n",
      "No. Observations:                 797   AIC:                             7487.\n",
      "Df Residuals:                     786   BIC:                             7538.\n",
      "Df Model:                          10                                         \n",
      "Covariance Type:            nonrobust                                         \n",
      "===================================================================================\n",
      "                      coef    std err          t      P>|t|      [0.025      0.975]\n",
      "-----------------------------------------------------------------------------------\n",
      "Intercept         -50.7648     79.280     -0.640      0.522    -206.390     104.860\n",
      "eth_hashrate        0.0029      0.000      7.781      0.000       0.002       0.004\n",
      "eth_difficulty     -0.1118      0.018     -6.190      0.000      -0.147      -0.076\n",
      "eth_blocks          0.0216      0.059      0.368      0.713      -0.094       0.137\n",
      "eth_uncles         -0.0123      0.044     -0.276      0.782      -0.100       0.075\n",
      "eth_blocksize       0.0035      0.001      2.543      0.011       0.001       0.006\n",
      "eth_blocktime       3.2296      2.456      1.315      0.189      -1.592       8.051\n",
      "eth_gasprice     4.936e-12   1.82e-11      0.272      0.786   -3.07e-11    4.06e-11\n",
      "eth_gaslimit    -2.703e-06   1.19e-06     -2.275      0.023   -5.04e-06    -3.7e-07\n",
      "eth_gasused      1.311e-08   1.02e-09     12.838      0.000    1.11e-08    1.51e-08\n",
      "eth_ethersupply    -0.0040      0.012     -0.340      0.734      -0.027       0.019\n",
      "==============================================================================\n",
      "Omnibus:                      298.998   Durbin-Watson:                   0.321\n",
      "Prob(Omnibus):                  0.000   Jarque-Bera (JB):             4831.308\n",
      "Skew:                           1.250   Prob(JB):                         0.00\n",
      "Kurtosis:                      14.800   Cond. No.                     5.69e+12\n",
      "==============================================================================\n",
      "\n",
      "Warnings:\n",
      "[1] Standard Errors assume that the covariance matrix of the errors is correctly specified.\n",
      "[2] The condition number is large, 5.69e+12. This might indicate that there are\n",
      "strong multicollinearity or other numerical problems.\n"
     ]
    }
   ],
   "source": [
    "print result.summary()"
   ]
  },
  {
   "cell_type": "code",
   "execution_count": 61,
   "metadata": {
    "collapsed": true
   },
   "outputs": [],
   "source": [
    "corr = df2.corr()"
   ]
  },
  {
   "cell_type": "code",
   "execution_count": 64,
   "metadata": {},
   "outputs": [
    {
     "data": {
      "text/plain": [
       "<matplotlib.axes._subplots.AxesSubplot at 0x11ea21d10>"
      ]
     },
     "execution_count": 64,
     "metadata": {},
     "output_type": "execute_result"
    },
    {
     "data": {
      "image/png": "[encoded data removed]",
      "text/plain": [
       "<matplotlib.figure.Figure at 0x11e5124d0>"
      ]
     },
     "metadata": {},
     "output_type": "display_data"
    }
   ],
   "source": [
    "f, ax = plt.subplots(figsize=(15, 10))\n",
    "sns.heatmap(corr, mask=np.zeros_like(corr, dtype=np.bool), cmap=sns.diverging_palette(220, 10, as_cmap=True),\n",
    "            square=True, ax=ax)"
   ]
  },
  {
   "cell_type": "code",
   "execution_count": null,
   "metadata": {
    "collapsed": true
   },
   "outputs": [],
   "source": []
  }
 ],
 "metadata": {
  "kernelspec": {
   "display_name": "Python 3",
   "language": "python",
   "name": "python3"
  },
  "language_info": {
   "codemirror_mode": {
    "name": "ipython",
    "version": 3
   },
   "file_extension": ".py",
   "mimetype": "text/x-python",
   "name": "python",
   "nbconvert_exporter": "python",
   "pygments_lexer": "ipython3",
   "version": "3.6.3"
  }
 },
 "nbformat": 4,
 "nbformat_minor": 2
}
